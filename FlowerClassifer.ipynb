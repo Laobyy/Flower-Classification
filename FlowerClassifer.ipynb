{
 "cells": [
  {
   "cell_type": "code",
   "execution_count": 1,
   "id": "6c341010",
   "metadata": {},
   "outputs": [
    {
     "name": "stderr",
     "output_type": "stream",
     "text": [
      "C:\\Users\\guanq\\AppData\\Local\\anaconda3\\envs\\4042Assign2\\lib\\site-packages\\tqdm\\auto.py:21: TqdmWarning: IProgress not found. Please update jupyter and ipywidgets. See https://ipywidgets.readthedocs.io/en/stable/user_install.html\n",
      "  from .autonotebook import tqdm as notebook_tqdm\n"
     ]
    }
   ],
   "source": [
    "import json\n",
    "import pandas as pd\n",
    "import numpy as np\n",
    "import matplotlib.pyplot as plt\n",
    "import os\n",
    "import random\n",
    "from PIL import Image\n",
    "from pathlib import Path\n",
    "from tqdm.auto import tqdm\n",
    "\n",
    "import torch\n",
    "from torch import nn\n",
    "import torchvision\n",
    "from torch.utils.data import DataLoader\n",
    "from torchvision import datasets, transforms, models\n",
    "from torch.utils.data import Dataset, DataLoader\n",
    "from torchinfo import summary\n",
    "from scipy.io import loadmat\n",
    "\n",
    "from torchvision.models import resnet50, ResNet50_Weights, vgg16, VGG16_Weights, alexnet, AlexNet_Weights\n",
    "from timeit import default_timer as timer"
   ]
  },
  {
   "cell_type": "code",
   "execution_count": 2,
   "id": "35b383ca",
   "metadata": {},
   "outputs": [
    {
     "name": "stdout",
     "output_type": "stream",
     "text": [
      "cuda\n"
     ]
    }
   ],
   "source": [
    "device = 'cuda' if torch.cuda.is_available() else 'cpu'\n",
    "print(device)"
   ]
  },
  {
   "cell_type": "markdown",
   "id": "4b772826",
   "metadata": {},
   "source": [
    "# Data Preparation"
   ]
  },
  {
   "cell_type": "code",
   "execution_count": 3,
   "id": "c8ba56a8",
   "metadata": {},
   "outputs": [],
   "source": [
    "#train_set = torchvision.datasets.Flowers102(root=\"./dataset\", split='train', download=True)\n",
    "#val_set = torchvision.datasets.Flowers102(root=\"./dataset\", split='val', download=True)\n",
    "#test_set = torchvision.datasets.Flowers102(root=\"./dataset\", split='test', download=True)"
   ]
  },
  {
   "cell_type": "code",
   "execution_count": 4,
   "id": "2d3a14d9",
   "metadata": {},
   "outputs": [
    {
     "data": {
      "text/plain": [
       "{'__header__': b'MATLAB 5.0 MAT-file, Platform: GLNX86, Created on: Thu Feb 19 17:38:58 2009',\n",
       " '__version__': '1.0',\n",
       " '__globals__': [],\n",
       " 'trnid': array([[6765, 6755, 6768, ..., 8026, 8036, 8041]], dtype=uint16),\n",
       " 'valid': array([[6773, 6767, 6739, ..., 8028, 8008, 8030]], dtype=uint16),\n",
       " 'tstid': array([[6734, 6735, 6737, ..., 8044, 8045, 8047]], dtype=uint16)}"
      ]
     },
     "execution_count": 4,
     "metadata": {},
     "output_type": "execute_result"
    }
   ],
   "source": [
    "setid = loadmat('./dataset/flowers-102/setid.mat')\n",
    "setid"
   ]
  },
  {
   "cell_type": "code",
   "execution_count": 5,
   "id": "0650c205",
   "metadata": {},
   "outputs": [],
   "source": [
    "idx_train = setid['trnid'][0] - 1\n",
    "idx_test = setid['tstid'][0] - 1\n",
    "idx_valid = setid['valid'][0] - 1"
   ]
  },
  {
   "cell_type": "code",
   "execution_count": 6,
   "id": "be66f9f7",
   "metadata": {},
   "outputs": [
    {
     "data": {
      "text/plain": [
       "array([76, 76, 76, ..., 61, 61, 61], dtype=uint8)"
      ]
     },
     "execution_count": 6,
     "metadata": {},
     "output_type": "execute_result"
    }
   ],
   "source": [
    "image_labels = loadmat('./dataset/flowers-102/imagelabels.mat')['labels'][0]\n",
    "image_labels -= 1\n",
    "image_labels"
   ]
  },
  {
   "cell_type": "code",
   "execution_count": 7,
   "id": "3bf3ba83",
   "metadata": {},
   "outputs": [],
   "source": [
    "import glob\n",
    "files = sorted(glob.glob('./dataset/flowers-102/jpg/*.jpg'))\n",
    "len(files)\n",
    "labels = np.array(list(zip(files, image_labels)))"
   ]
  },
  {
   "cell_type": "code",
   "execution_count": 8,
   "id": "51c55926",
   "metadata": {},
   "outputs": [],
   "source": [
    "def write_set_file(fout, labels):\n",
    "    with open(fout, 'w+') as f:\n",
    "        for label in labels:\n",
    "            f.write('%s %s\\n' % (label[0], label[1]))\n",
    "\n",
    "# Images are ordered by species, so shuffle them\n",
    "np.random.seed(42)\n",
    "idx_train = idx_train[np.random.permutation(len(idx_train))]\n",
    "idx_test = idx_test[np.random.permutation(len(idx_test))]\n",
    "idx_valid = idx_valid[np.random.permutation(len(idx_valid))]\n",
    "\n",
    "write_set_file('train.txt', labels[idx_train,:])\n",
    "write_set_file('test.txt', labels[idx_test,:])\n",
    "write_set_file('valid.txt', labels[idx_valid,:])"
   ]
  },
  {
   "cell_type": "markdown",
   "id": "0232edd5",
   "metadata": {},
   "source": [
    "# Data Processing"
   ]
  },
  {
   "cell_type": "markdown",
   "id": "40f6e31a",
   "metadata": {},
   "source": [
    "Choose the model name here"
   ]
  },
  {
   "cell_type": "code",
   "execution_count": 9,
   "id": "721f4eb7",
   "metadata": {},
   "outputs": [],
   "source": [
    "model_name = \"resnet\"\n",
    "#model_name = \"alexnet\"\n",
    "#model_name = \"vgg\""
   ]
  },
  {
   "cell_type": "markdown",
   "id": "ce47db5e",
   "metadata": {},
   "source": [
    "Get the transform list"
   ]
  },
  {
   "cell_type": "code",
   "execution_count": 10,
   "id": "b422dc99",
   "metadata": {},
   "outputs": [
    {
     "data": {
      "text/plain": [
       "ImageClassification(\n",
       "    crop_size=[224]\n",
       "    resize_size=[232]\n",
       "    mean=[0.485, 0.456, 0.406]\n",
       "    std=[0.229, 0.224, 0.225]\n",
       "    interpolation=InterpolationMode.BILINEAR\n",
       ")"
      ]
     },
     "execution_count": 10,
     "metadata": {},
     "output_type": "execute_result"
    }
   ],
   "source": [
    "if model_name == \"resnet\":\n",
    "    weight = ResNet50_Weights.DEFAULT\n",
    "    auto_transform = weight.transforms()\n",
    "    \n",
    "elif model_name == \"alexnet\":\n",
    "    weight = AlexNet_Weights.DEFAULT\n",
    "    auto_transform = weight.transforms()\n",
    "    \n",
    "elif model_name == \"vgg\":\n",
    "    weight = VGG16_Weights.DEFAULT\n",
    "    auto_transform = weight.transforms()\n",
    "    \n",
    "else:\n",
    "    print(\"Invalid model name, exiting...\")\n",
    "    exit()  \n",
    "\n",
    "auto_transform"
   ]
  },
  {
   "cell_type": "code",
   "execution_count": 11,
   "id": "1b2d422b",
   "metadata": {},
   "outputs": [],
   "source": [
    "class Flower102Dataset(Dataset):\n",
    "    \n",
    "    def __init__(self, txt_file,  transform):\n",
    "        self.txt_file = txt_file\n",
    "        self.transform = transform\n",
    "        self.data = self.read_from_txt_file()\n",
    "    \n",
    "    def __len__(self):\n",
    "        return len(self.data)\n",
    "\n",
    "    def read_from_txt_file(self):\n",
    "        data = []\n",
    "        f = open(self.txt_file)\n",
    "        for line in f.readlines():\n",
    "            image_file, label = line.split()\n",
    "            label = int(label)\n",
    "            data.append((image_file, label))\n",
    "        return data\n",
    "    \n",
    "    def __getitem__(self, idx):\n",
    "        img_name, label = self.data[idx]\n",
    "        image = Image.open(img_name)\n",
    "        \n",
    "        if self.transform:\n",
    "            image = self.transform(image)\n",
    "            \n",
    "        return {\n",
    "            'image': image,\n",
    "            'label': label\n",
    "        }        "
   ]
  },
  {
   "cell_type": "code",
   "execution_count": 12,
   "id": "ad98c97d",
   "metadata": {},
   "outputs": [],
   "source": [
    "train_dataset = Flower102Dataset('./train.txt', auto_transform)\n",
    "val_dataset = Flower102Dataset('./valid.txt', auto_transform)\n",
    "test_dataset = Flower102Dataset('./test.txt', auto_transform)"
   ]
  },
  {
   "cell_type": "code",
   "execution_count": 13,
   "id": "f8afa993",
   "metadata": {},
   "outputs": [],
   "source": [
    "NUM_WORKERS = 0\n",
    "batch_size = 128\n",
    "\n",
    "train_dataloader = DataLoader(dataset = train_dataset, batch_size = batch_size, num_workers = NUM_WORKERS)\n",
    "val_dataloader = DataLoader(dataset = val_dataset, batch_size = batch_size, shuffle = False, num_workers = NUM_WORKERS)\n",
    "test_dataloader = DataLoader(dataset = test_dataset, batch_size = batch_size, shuffle = False, num_workers = NUM_WORKERS)"
   ]
  },
  {
   "cell_type": "markdown",
   "id": "63e1ddc8",
   "metadata": {},
   "source": [
    "# Model Initialization"
   ]
  },
  {
   "cell_type": "markdown",
   "id": "ad8aa25d",
   "metadata": {},
   "source": [
    "Here we use ResNet50, AlexNet and VGG16"
   ]
  },
  {
   "cell_type": "code",
   "execution_count": 14,
   "id": "324ab462",
   "metadata": {},
   "outputs": [],
   "source": [
    "def initialize_model(model_name):\n",
    "    model = None\n",
    "    \n",
    "    if model_name == 'resnet':\n",
    "        model = resnet50(pretrained=True).to(device)\n",
    "        for param in model.parameters():\n",
    "            param.requires_grad = False\n",
    "            \n",
    "        model.fc = torch.nn.Linear(in_features=2048, out_features=102, bias=True).to(device)\n",
    "        \n",
    "    elif model_name == 'alexnet':\n",
    "        model = alexnet(pretrained=True).to(device)\n",
    "        for param in model.parameters():\n",
    "            param.requires_grad = False\n",
    "\n",
    "        model.classifier[6] = torch.nn.Linear(in_features=4096, out_features=102, bias=True).to(device)\n",
    "        \n",
    "    elif model_name == 'vgg':\n",
    "        model = vgg16(pretrained=True).to(device)\n",
    "        for param in model.parameters():\n",
    "            param.requires_grad = False\n",
    "            \n",
    "        model.classifier[6] = torch.nn.Linear(in_features=4096, out_features=102, bias=True).to(device)\n",
    "        \n",
    "    else:\n",
    "        print(\"Invalid model name, exiting...\")\n",
    "        exit()  \n",
    "        \n",
    "    return model"
   ]
  },
  {
   "cell_type": "code",
   "execution_count": 15,
   "id": "2cfc662f",
   "metadata": {},
   "outputs": [
    {
     "name": "stderr",
     "output_type": "stream",
     "text": [
      "C:\\Users\\guanq\\AppData\\Local\\anaconda3\\envs\\4042Assign2\\lib\\site-packages\\torchvision\\models\\_utils.py:208: UserWarning: The parameter 'pretrained' is deprecated since 0.13 and may be removed in the future, please use 'weights' instead.\n",
      "  warnings.warn(\n",
      "C:\\Users\\guanq\\AppData\\Local\\anaconda3\\envs\\4042Assign2\\lib\\site-packages\\torchvision\\models\\_utils.py:223: UserWarning: Arguments other than a weight enum or `None` for 'weights' are deprecated since 0.13 and may be removed in the future. The current behavior is equivalent to passing `weights=ResNet50_Weights.IMAGENET1K_V1`. You can also use `weights=ResNet50_Weights.DEFAULT` to get the most up-to-date weights.\n",
      "  warnings.warn(msg)\n"
     ]
    }
   ],
   "source": [
    "torch.manual_seed(42)\n",
    "torch.cuda.manual_seed(42)\n",
    "\n",
    "model = initialize_model(model_name)"
   ]
  },
  {
   "cell_type": "code",
   "execution_count": 16,
   "id": "12d89753",
   "metadata": {},
   "outputs": [
    {
     "data": {
      "text/plain": [
       "========================================================================================================================\n",
       "Layer (type (var_name))                  Input Shape          Output Shape         Param #              Trainable\n",
       "========================================================================================================================\n",
       "ResNet (ResNet)                          [128, 3, 244, 244]   [128, 102]           --                   Partial\n",
       "├─Conv2d (conv1)                         [128, 3, 244, 244]   [128, 64, 122, 122]  (9,408)              False\n",
       "├─BatchNorm2d (bn1)                      [128, 64, 122, 122]  [128, 64, 122, 122]  (128)                False\n",
       "├─ReLU (relu)                            [128, 64, 122, 122]  [128, 64, 122, 122]  --                   --\n",
       "├─MaxPool2d (maxpool)                    [128, 64, 122, 122]  [128, 64, 61, 61]    --                   --\n",
       "├─Sequential (layer1)                    [128, 64, 61, 61]    [128, 256, 61, 61]   --                   False\n",
       "│    └─Bottleneck (0)                    [128, 64, 61, 61]    [128, 256, 61, 61]   --                   False\n",
       "│    │    └─Conv2d (conv1)               [128, 64, 61, 61]    [128, 64, 61, 61]    (4,096)              False\n",
       "│    │    └─BatchNorm2d (bn1)            [128, 64, 61, 61]    [128, 64, 61, 61]    (128)                False\n",
       "│    │    └─ReLU (relu)                  [128, 64, 61, 61]    [128, 64, 61, 61]    --                   --\n",
       "│    │    └─Conv2d (conv2)               [128, 64, 61, 61]    [128, 64, 61, 61]    (36,864)             False\n",
       "│    │    └─BatchNorm2d (bn2)            [128, 64, 61, 61]    [128, 64, 61, 61]    (128)                False\n",
       "│    │    └─ReLU (relu)                  [128, 64, 61, 61]    [128, 64, 61, 61]    --                   --\n",
       "│    │    └─Conv2d (conv3)               [128, 64, 61, 61]    [128, 256, 61, 61]   (16,384)             False\n",
       "│    │    └─BatchNorm2d (bn3)            [128, 256, 61, 61]   [128, 256, 61, 61]   (512)                False\n",
       "│    │    └─Sequential (downsample)      [128, 64, 61, 61]    [128, 256, 61, 61]   (16,896)             False\n",
       "│    │    └─ReLU (relu)                  [128, 256, 61, 61]   [128, 256, 61, 61]   --                   --\n",
       "│    └─Bottleneck (1)                    [128, 256, 61, 61]   [128, 256, 61, 61]   --                   False\n",
       "│    │    └─Conv2d (conv1)               [128, 256, 61, 61]   [128, 64, 61, 61]    (16,384)             False\n",
       "│    │    └─BatchNorm2d (bn1)            [128, 64, 61, 61]    [128, 64, 61, 61]    (128)                False\n",
       "│    │    └─ReLU (relu)                  [128, 64, 61, 61]    [128, 64, 61, 61]    --                   --\n",
       "│    │    └─Conv2d (conv2)               [128, 64, 61, 61]    [128, 64, 61, 61]    (36,864)             False\n",
       "│    │    └─BatchNorm2d (bn2)            [128, 64, 61, 61]    [128, 64, 61, 61]    (128)                False\n",
       "│    │    └─ReLU (relu)                  [128, 64, 61, 61]    [128, 64, 61, 61]    --                   --\n",
       "│    │    └─Conv2d (conv3)               [128, 64, 61, 61]    [128, 256, 61, 61]   (16,384)             False\n",
       "│    │    └─BatchNorm2d (bn3)            [128, 256, 61, 61]   [128, 256, 61, 61]   (512)                False\n",
       "│    │    └─ReLU (relu)                  [128, 256, 61, 61]   [128, 256, 61, 61]   --                   --\n",
       "│    └─Bottleneck (2)                    [128, 256, 61, 61]   [128, 256, 61, 61]   --                   False\n",
       "│    │    └─Conv2d (conv1)               [128, 256, 61, 61]   [128, 64, 61, 61]    (16,384)             False\n",
       "│    │    └─BatchNorm2d (bn1)            [128, 64, 61, 61]    [128, 64, 61, 61]    (128)                False\n",
       "│    │    └─ReLU (relu)                  [128, 64, 61, 61]    [128, 64, 61, 61]    --                   --\n",
       "│    │    └─Conv2d (conv2)               [128, 64, 61, 61]    [128, 64, 61, 61]    (36,864)             False\n",
       "│    │    └─BatchNorm2d (bn2)            [128, 64, 61, 61]    [128, 64, 61, 61]    (128)                False\n",
       "│    │    └─ReLU (relu)                  [128, 64, 61, 61]    [128, 64, 61, 61]    --                   --\n",
       "│    │    └─Conv2d (conv3)               [128, 64, 61, 61]    [128, 256, 61, 61]   (16,384)             False\n",
       "│    │    └─BatchNorm2d (bn3)            [128, 256, 61, 61]   [128, 256, 61, 61]   (512)                False\n",
       "│    │    └─ReLU (relu)                  [128, 256, 61, 61]   [128, 256, 61, 61]   --                   --\n",
       "├─Sequential (layer2)                    [128, 256, 61, 61]   [128, 512, 31, 31]   --                   False\n",
       "│    └─Bottleneck (0)                    [128, 256, 61, 61]   [128, 512, 31, 31]   --                   False\n",
       "│    │    └─Conv2d (conv1)               [128, 256, 61, 61]   [128, 128, 61, 61]   (32,768)             False\n",
       "│    │    └─BatchNorm2d (bn1)            [128, 128, 61, 61]   [128, 128, 61, 61]   (256)                False\n",
       "│    │    └─ReLU (relu)                  [128, 128, 61, 61]   [128, 128, 61, 61]   --                   --\n",
       "│    │    └─Conv2d (conv2)               [128, 128, 61, 61]   [128, 128, 31, 31]   (147,456)            False\n",
       "│    │    └─BatchNorm2d (bn2)            [128, 128, 31, 31]   [128, 128, 31, 31]   (256)                False\n",
       "│    │    └─ReLU (relu)                  [128, 128, 31, 31]   [128, 128, 31, 31]   --                   --\n",
       "│    │    └─Conv2d (conv3)               [128, 128, 31, 31]   [128, 512, 31, 31]   (65,536)             False\n",
       "│    │    └─BatchNorm2d (bn3)            [128, 512, 31, 31]   [128, 512, 31, 31]   (1,024)              False\n",
       "│    │    └─Sequential (downsample)      [128, 256, 61, 61]   [128, 512, 31, 31]   (132,096)            False\n",
       "│    │    └─ReLU (relu)                  [128, 512, 31, 31]   [128, 512, 31, 31]   --                   --\n",
       "│    └─Bottleneck (1)                    [128, 512, 31, 31]   [128, 512, 31, 31]   --                   False\n",
       "│    │    └─Conv2d (conv1)               [128, 512, 31, 31]   [128, 128, 31, 31]   (65,536)             False\n",
       "│    │    └─BatchNorm2d (bn1)            [128, 128, 31, 31]   [128, 128, 31, 31]   (256)                False\n",
       "│    │    └─ReLU (relu)                  [128, 128, 31, 31]   [128, 128, 31, 31]   --                   --\n",
       "│    │    └─Conv2d (conv2)               [128, 128, 31, 31]   [128, 128, 31, 31]   (147,456)            False\n",
       "│    │    └─BatchNorm2d (bn2)            [128, 128, 31, 31]   [128, 128, 31, 31]   (256)                False\n",
       "│    │    └─ReLU (relu)                  [128, 128, 31, 31]   [128, 128, 31, 31]   --                   --\n",
       "│    │    └─Conv2d (conv3)               [128, 128, 31, 31]   [128, 512, 31, 31]   (65,536)             False\n",
       "│    │    └─BatchNorm2d (bn3)            [128, 512, 31, 31]   [128, 512, 31, 31]   (1,024)              False\n",
       "│    │    └─ReLU (relu)                  [128, 512, 31, 31]   [128, 512, 31, 31]   --                   --\n",
       "│    └─Bottleneck (2)                    [128, 512, 31, 31]   [128, 512, 31, 31]   --                   False\n",
       "│    │    └─Conv2d (conv1)               [128, 512, 31, 31]   [128, 128, 31, 31]   (65,536)             False\n",
       "│    │    └─BatchNorm2d (bn1)            [128, 128, 31, 31]   [128, 128, 31, 31]   (256)                False\n",
       "│    │    └─ReLU (relu)                  [128, 128, 31, 31]   [128, 128, 31, 31]   --                   --\n",
       "│    │    └─Conv2d (conv2)               [128, 128, 31, 31]   [128, 128, 31, 31]   (147,456)            False\n",
       "│    │    └─BatchNorm2d (bn2)            [128, 128, 31, 31]   [128, 128, 31, 31]   (256)                False\n",
       "│    │    └─ReLU (relu)                  [128, 128, 31, 31]   [128, 128, 31, 31]   --                   --\n",
       "│    │    └─Conv2d (conv3)               [128, 128, 31, 31]   [128, 512, 31, 31]   (65,536)             False\n",
       "│    │    └─BatchNorm2d (bn3)            [128, 512, 31, 31]   [128, 512, 31, 31]   (1,024)              False\n",
       "│    │    └─ReLU (relu)                  [128, 512, 31, 31]   [128, 512, 31, 31]   --                   --\n",
       "│    └─Bottleneck (3)                    [128, 512, 31, 31]   [128, 512, 31, 31]   --                   False\n",
       "│    │    └─Conv2d (conv1)               [128, 512, 31, 31]   [128, 128, 31, 31]   (65,536)             False\n",
       "│    │    └─BatchNorm2d (bn1)            [128, 128, 31, 31]   [128, 128, 31, 31]   (256)                False\n",
       "│    │    └─ReLU (relu)                  [128, 128, 31, 31]   [128, 128, 31, 31]   --                   --\n",
       "│    │    └─Conv2d (conv2)               [128, 128, 31, 31]   [128, 128, 31, 31]   (147,456)            False\n",
       "│    │    └─BatchNorm2d (bn2)            [128, 128, 31, 31]   [128, 128, 31, 31]   (256)                False\n",
       "│    │    └─ReLU (relu)                  [128, 128, 31, 31]   [128, 128, 31, 31]   --                   --\n",
       "│    │    └─Conv2d (conv3)               [128, 128, 31, 31]   [128, 512, 31, 31]   (65,536)             False\n",
       "│    │    └─BatchNorm2d (bn3)            [128, 512, 31, 31]   [128, 512, 31, 31]   (1,024)              False\n",
       "│    │    └─ReLU (relu)                  [128, 512, 31, 31]   [128, 512, 31, 31]   --                   --\n",
       "├─Sequential (layer3)                    [128, 512, 31, 31]   [128, 1024, 16, 16]  --                   False\n",
       "│    └─Bottleneck (0)                    [128, 512, 31, 31]   [128, 1024, 16, 16]  --                   False\n",
       "│    │    └─Conv2d (conv1)               [128, 512, 31, 31]   [128, 256, 31, 31]   (131,072)            False\n",
       "│    │    └─BatchNorm2d (bn1)            [128, 256, 31, 31]   [128, 256, 31, 31]   (512)                False\n",
       "│    │    └─ReLU (relu)                  [128, 256, 31, 31]   [128, 256, 31, 31]   --                   --\n",
       "│    │    └─Conv2d (conv2)               [128, 256, 31, 31]   [128, 256, 16, 16]   (589,824)            False\n",
       "│    │    └─BatchNorm2d (bn2)            [128, 256, 16, 16]   [128, 256, 16, 16]   (512)                False\n",
       "│    │    └─ReLU (relu)                  [128, 256, 16, 16]   [128, 256, 16, 16]   --                   --\n",
       "│    │    └─Conv2d (conv3)               [128, 256, 16, 16]   [128, 1024, 16, 16]  (262,144)            False\n",
       "│    │    └─BatchNorm2d (bn3)            [128, 1024, 16, 16]  [128, 1024, 16, 16]  (2,048)              False\n",
       "│    │    └─Sequential (downsample)      [128, 512, 31, 31]   [128, 1024, 16, 16]  (526,336)            False\n",
       "│    │    └─ReLU (relu)                  [128, 1024, 16, 16]  [128, 1024, 16, 16]  --                   --\n",
       "│    └─Bottleneck (1)                    [128, 1024, 16, 16]  [128, 1024, 16, 16]  --                   False\n",
       "│    │    └─Conv2d (conv1)               [128, 1024, 16, 16]  [128, 256, 16, 16]   (262,144)            False\n",
       "│    │    └─BatchNorm2d (bn1)            [128, 256, 16, 16]   [128, 256, 16, 16]   (512)                False\n",
       "│    │    └─ReLU (relu)                  [128, 256, 16, 16]   [128, 256, 16, 16]   --                   --\n",
       "│    │    └─Conv2d (conv2)               [128, 256, 16, 16]   [128, 256, 16, 16]   (589,824)            False\n",
       "│    │    └─BatchNorm2d (bn2)            [128, 256, 16, 16]   [128, 256, 16, 16]   (512)                False\n",
       "│    │    └─ReLU (relu)                  [128, 256, 16, 16]   [128, 256, 16, 16]   --                   --\n",
       "│    │    └─Conv2d (conv3)               [128, 256, 16, 16]   [128, 1024, 16, 16]  (262,144)            False\n",
       "│    │    └─BatchNorm2d (bn3)            [128, 1024, 16, 16]  [128, 1024, 16, 16]  (2,048)              False\n",
       "│    │    └─ReLU (relu)                  [128, 1024, 16, 16]  [128, 1024, 16, 16]  --                   --\n",
       "│    └─Bottleneck (2)                    [128, 1024, 16, 16]  [128, 1024, 16, 16]  --                   False\n",
       "│    │    └─Conv2d (conv1)               [128, 1024, 16, 16]  [128, 256, 16, 16]   (262,144)            False\n",
       "│    │    └─BatchNorm2d (bn1)            [128, 256, 16, 16]   [128, 256, 16, 16]   (512)                False\n",
       "│    │    └─ReLU (relu)                  [128, 256, 16, 16]   [128, 256, 16, 16]   --                   --\n",
       "│    │    └─Conv2d (conv2)               [128, 256, 16, 16]   [128, 256, 16, 16]   (589,824)            False\n",
       "│    │    └─BatchNorm2d (bn2)            [128, 256, 16, 16]   [128, 256, 16, 16]   (512)                False\n",
       "│    │    └─ReLU (relu)                  [128, 256, 16, 16]   [128, 256, 16, 16]   --                   --\n",
       "│    │    └─Conv2d (conv3)               [128, 256, 16, 16]   [128, 1024, 16, 16]  (262,144)            False\n",
       "│    │    └─BatchNorm2d (bn3)            [128, 1024, 16, 16]  [128, 1024, 16, 16]  (2,048)              False\n",
       "│    │    └─ReLU (relu)                  [128, 1024, 16, 16]  [128, 1024, 16, 16]  --                   --\n",
       "│    └─Bottleneck (3)                    [128, 1024, 16, 16]  [128, 1024, 16, 16]  --                   False\n",
       "│    │    └─Conv2d (conv1)               [128, 1024, 16, 16]  [128, 256, 16, 16]   (262,144)            False\n",
       "│    │    └─BatchNorm2d (bn1)            [128, 256, 16, 16]   [128, 256, 16, 16]   (512)                False\n",
       "│    │    └─ReLU (relu)                  [128, 256, 16, 16]   [128, 256, 16, 16]   --                   --\n",
       "│    │    └─Conv2d (conv2)               [128, 256, 16, 16]   [128, 256, 16, 16]   (589,824)            False\n",
       "│    │    └─BatchNorm2d (bn2)            [128, 256, 16, 16]   [128, 256, 16, 16]   (512)                False\n",
       "│    │    └─ReLU (relu)                  [128, 256, 16, 16]   [128, 256, 16, 16]   --                   --\n",
       "│    │    └─Conv2d (conv3)               [128, 256, 16, 16]   [128, 1024, 16, 16]  (262,144)            False\n",
       "│    │    └─BatchNorm2d (bn3)            [128, 1024, 16, 16]  [128, 1024, 16, 16]  (2,048)              False\n",
       "│    │    └─ReLU (relu)                  [128, 1024, 16, 16]  [128, 1024, 16, 16]  --                   --\n",
       "│    └─Bottleneck (4)                    [128, 1024, 16, 16]  [128, 1024, 16, 16]  --                   False\n",
       "│    │    └─Conv2d (conv1)               [128, 1024, 16, 16]  [128, 256, 16, 16]   (262,144)            False\n",
       "│    │    └─BatchNorm2d (bn1)            [128, 256, 16, 16]   [128, 256, 16, 16]   (512)                False\n",
       "│    │    └─ReLU (relu)                  [128, 256, 16, 16]   [128, 256, 16, 16]   --                   --\n",
       "│    │    └─Conv2d (conv2)               [128, 256, 16, 16]   [128, 256, 16, 16]   (589,824)            False\n",
       "│    │    └─BatchNorm2d (bn2)            [128, 256, 16, 16]   [128, 256, 16, 16]   (512)                False\n",
       "│    │    └─ReLU (relu)                  [128, 256, 16, 16]   [128, 256, 16, 16]   --                   --\n",
       "│    │    └─Conv2d (conv3)               [128, 256, 16, 16]   [128, 1024, 16, 16]  (262,144)            False\n",
       "│    │    └─BatchNorm2d (bn3)            [128, 1024, 16, 16]  [128, 1024, 16, 16]  (2,048)              False\n",
       "│    │    └─ReLU (relu)                  [128, 1024, 16, 16]  [128, 1024, 16, 16]  --                   --\n",
       "│    └─Bottleneck (5)                    [128, 1024, 16, 16]  [128, 1024, 16, 16]  --                   False\n",
       "│    │    └─Conv2d (conv1)               [128, 1024, 16, 16]  [128, 256, 16, 16]   (262,144)            False\n",
       "│    │    └─BatchNorm2d (bn1)            [128, 256, 16, 16]   [128, 256, 16, 16]   (512)                False\n",
       "│    │    └─ReLU (relu)                  [128, 256, 16, 16]   [128, 256, 16, 16]   --                   --\n",
       "│    │    └─Conv2d (conv2)               [128, 256, 16, 16]   [128, 256, 16, 16]   (589,824)            False\n",
       "│    │    └─BatchNorm2d (bn2)            [128, 256, 16, 16]   [128, 256, 16, 16]   (512)                False\n",
       "│    │    └─ReLU (relu)                  [128, 256, 16, 16]   [128, 256, 16, 16]   --                   --\n",
       "│    │    └─Conv2d (conv3)               [128, 256, 16, 16]   [128, 1024, 16, 16]  (262,144)            False\n",
       "│    │    └─BatchNorm2d (bn3)            [128, 1024, 16, 16]  [128, 1024, 16, 16]  (2,048)              False\n",
       "│    │    └─ReLU (relu)                  [128, 1024, 16, 16]  [128, 1024, 16, 16]  --                   --\n",
       "├─Sequential (layer4)                    [128, 1024, 16, 16]  [128, 2048, 8, 8]    --                   False\n",
       "│    └─Bottleneck (0)                    [128, 1024, 16, 16]  [128, 2048, 8, 8]    --                   False\n",
       "│    │    └─Conv2d (conv1)               [128, 1024, 16, 16]  [128, 512, 16, 16]   (524,288)            False\n",
       "│    │    └─BatchNorm2d (bn1)            [128, 512, 16, 16]   [128, 512, 16, 16]   (1,024)              False\n",
       "│    │    └─ReLU (relu)                  [128, 512, 16, 16]   [128, 512, 16, 16]   --                   --\n",
       "│    │    └─Conv2d (conv2)               [128, 512, 16, 16]   [128, 512, 8, 8]     (2,359,296)          False\n",
       "│    │    └─BatchNorm2d (bn2)            [128, 512, 8, 8]     [128, 512, 8, 8]     (1,024)              False\n",
       "│    │    └─ReLU (relu)                  [128, 512, 8, 8]     [128, 512, 8, 8]     --                   --\n",
       "│    │    └─Conv2d (conv3)               [128, 512, 8, 8]     [128, 2048, 8, 8]    (1,048,576)          False\n",
       "│    │    └─BatchNorm2d (bn3)            [128, 2048, 8, 8]    [128, 2048, 8, 8]    (4,096)              False\n",
       "│    │    └─Sequential (downsample)      [128, 1024, 16, 16]  [128, 2048, 8, 8]    (2,101,248)          False\n",
       "│    │    └─ReLU (relu)                  [128, 2048, 8, 8]    [128, 2048, 8, 8]    --                   --\n",
       "│    └─Bottleneck (1)                    [128, 2048, 8, 8]    [128, 2048, 8, 8]    --                   False\n",
       "│    │    └─Conv2d (conv1)               [128, 2048, 8, 8]    [128, 512, 8, 8]     (1,048,576)          False\n",
       "│    │    └─BatchNorm2d (bn1)            [128, 512, 8, 8]     [128, 512, 8, 8]     (1,024)              False\n",
       "│    │    └─ReLU (relu)                  [128, 512, 8, 8]     [128, 512, 8, 8]     --                   --\n",
       "│    │    └─Conv2d (conv2)               [128, 512, 8, 8]     [128, 512, 8, 8]     (2,359,296)          False\n",
       "│    │    └─BatchNorm2d (bn2)            [128, 512, 8, 8]     [128, 512, 8, 8]     (1,024)              False\n",
       "│    │    └─ReLU (relu)                  [128, 512, 8, 8]     [128, 512, 8, 8]     --                   --\n",
       "│    │    └─Conv2d (conv3)               [128, 512, 8, 8]     [128, 2048, 8, 8]    (1,048,576)          False\n",
       "│    │    └─BatchNorm2d (bn3)            [128, 2048, 8, 8]    [128, 2048, 8, 8]    (4,096)              False\n",
       "│    │    └─ReLU (relu)                  [128, 2048, 8, 8]    [128, 2048, 8, 8]    --                   --\n",
       "│    └─Bottleneck (2)                    [128, 2048, 8, 8]    [128, 2048, 8, 8]    --                   False\n",
       "│    │    └─Conv2d (conv1)               [128, 2048, 8, 8]    [128, 512, 8, 8]     (1,048,576)          False\n",
       "│    │    └─BatchNorm2d (bn1)            [128, 512, 8, 8]     [128, 512, 8, 8]     (1,024)              False\n",
       "│    │    └─ReLU (relu)                  [128, 512, 8, 8]     [128, 512, 8, 8]     --                   --\n",
       "│    │    └─Conv2d (conv2)               [128, 512, 8, 8]     [128, 512, 8, 8]     (2,359,296)          False\n",
       "│    │    └─BatchNorm2d (bn2)            [128, 512, 8, 8]     [128, 512, 8, 8]     (1,024)              False\n",
       "│    │    └─ReLU (relu)                  [128, 512, 8, 8]     [128, 512, 8, 8]     --                   --\n",
       "│    │    └─Conv2d (conv3)               [128, 512, 8, 8]     [128, 2048, 8, 8]    (1,048,576)          False\n",
       "│    │    └─BatchNorm2d (bn3)            [128, 2048, 8, 8]    [128, 2048, 8, 8]    (4,096)              False\n",
       "│    │    └─ReLU (relu)                  [128, 2048, 8, 8]    [128, 2048, 8, 8]    --                   --\n",
       "├─AdaptiveAvgPool2d (avgpool)            [128, 2048, 8, 8]    [128, 2048, 1, 1]    --                   --\n",
       "├─Linear (fc)                            [128, 2048]          [128, 102]           208,998              True\n",
       "========================================================================================================================\n",
       "Total params: 23,717,030\n",
       "Trainable params: 208,998\n",
       "Non-trainable params: 23,508,032\n",
       "Total mult-adds (G): 659.16\n",
       "========================================================================================================================\n",
       "Input size (MB): 91.45\n",
       "Forward/backward pass size (MB): 27874.14\n",
       "Params size (MB): 94.87\n",
       "Estimated Total Size (MB): 28060.45\n",
       "========================================================================================================================"
      ]
     },
     "execution_count": 16,
     "metadata": {},
     "output_type": "execute_result"
    }
   ],
   "source": [
    "summary(model=model,\n",
    "       input_size=(128,3,244,244),\n",
    "       verbose=0,\n",
    "       col_names=[\"input_size\", 'output_size', 'num_params', 'trainable'],\n",
    "       col_width=20,\n",
    "       row_settings=['var_names'])"
   ]
  },
  {
   "cell_type": "markdown",
   "id": "1c6b21df",
   "metadata": {},
   "source": [
    "# Task 1: Fine-tune the models to perform the classification task"
   ]
  },
  {
   "cell_type": "code",
   "execution_count": 17,
   "id": "49d95bad",
   "metadata": {},
   "outputs": [],
   "source": [
    "def train_step(model: torch.nn.Module, dataloader: torch.utils.data.DataLoader, loss_fn: torch.nn.Module, optimizer: torch.optim.Optimizer, device: torch.device):\n",
    "    model.train()\n",
    "    train_loss, train_acc = 0, 0\n",
    "    \n",
    "    for i, batch in enumerate(dataloader):\n",
    "        X = batch['image']\n",
    "        y = batch['label']\n",
    "        \n",
    "        X, y = X.to(device), y.to(device)\n",
    "        \n",
    "        y_pred = model(X)\n",
    "        \n",
    "        loss = loss_fn(y_pred,y)\n",
    "        train_loss += loss.item()\n",
    "        \n",
    "        optimizer.zero_grad()\n",
    "        loss.backward()\n",
    "        optimizer.step()\n",
    "        \n",
    "        y_pred_label = torch.argmax(torch.softmax(y_pred, dim=1), dim=1)\n",
    "        train_acc += (y_pred_label==y).sum().item()/len(y_pred)\n",
    "        \n",
    "    train_loss = train_loss/len(dataloader)\n",
    "    train_acc = train_acc/len(dataloader)\n",
    "    return train_loss, train_acc"
   ]
  },
  {
   "cell_type": "code",
   "execution_count": 18,
   "id": "e13b8755",
   "metadata": {},
   "outputs": [],
   "source": [
    "def val_step(model: torch.nn.Module, dataloader: torch.utils.data.DataLoader, loss_fn: torch.nn.Module, device: torch.device):\n",
    "    model.eval()\n",
    "    val_loss, val_acc = 0, 0\n",
    "    \n",
    "    with torch.inference_mode():\n",
    "        for i, batch in enumerate(dataloader):\n",
    "            X = batch['image']\n",
    "            y = batch['label']\n",
    "\n",
    "            X, y = X.to(device), y.to(device)\n",
    "\n",
    "            y_pred = model(X)\n",
    "\n",
    "            loss = loss_fn(y_pred,y)\n",
    "            val_loss += loss.item()\n",
    "\n",
    "            y_pred_label = y_pred.argmax(dim=1)\n",
    "            val_acc += (y_pred_label==y).sum().item()/len(y_pred_label)\n",
    "        \n",
    "    val_loss = val_loss/len(dataloader)\n",
    "    val_acc = val_acc/len(dataloader)\n",
    "    return val_loss, val_acc"
   ]
  },
  {
   "cell_type": "code",
   "execution_count": 19,
   "id": "ec1da784",
   "metadata": {},
   "outputs": [],
   "source": [
    "def train(model: torch.nn.Module, train_dataloader: torch.utils.data.DataLoader, val_dataloader: torch.utils.data.DataLoader, \n",
    "          optimizer: torch.optim.Optimizer, loss_fn: torch.nn.Module, epochs: int, device: torch.device):\n",
    "    \n",
    "    results = {\"train_loss\": [], \"train_acc\": [], \"valid_loss\": [], \"valid_acc\": []}\n",
    "    model.to(device)\n",
    "    \n",
    "    for epoch in tqdm(range(epochs)):\n",
    "        train_loss, train_acc = train_step(model=model, dataloader = train_dataloader, loss_fn = loss_fn, optimizer = optimizer, device = device)\n",
    "        valid_loss, valid_acc = val_step(model=model, dataloader = val_dataloader, loss_fn = loss_fn, device=device)\n",
    "        print(\n",
    "          f\"Epoch: {epoch+1} | \"\n",
    "          f\"train_loss: {train_loss:.4f} | \"\n",
    "          f\"train_acc: {train_acc:.4f} | \"\n",
    "          f\"valid_loss: {valid_loss:.4f} | \"\n",
    "          f\"valid_acc: {valid_acc:.4f}\"\n",
    "        )\n",
    "\n",
    "        results[\"train_loss\"].append(train_loss)\n",
    "        results[\"train_acc\"].append(train_acc)\n",
    "        results[\"valid_loss\"].append(valid_loss)\n",
    "        results[\"valid_acc\"].append(valid_acc)\n",
    "\n",
    "    return results"
   ]
  },
  {
   "cell_type": "code",
   "execution_count": 20,
   "id": "761c7091",
   "metadata": {},
   "outputs": [],
   "source": [
    "num_classes = 102\n",
    "loss_fn = nn.CrossEntropyLoss(label_smoothing=0.1)\n",
    "optimizer = torch.optim.NAdam(model.parameters(), lr=0.001, weight_decay=2e-05)"
   ]
  },
  {
   "cell_type": "code",
   "execution_count": 21,
   "id": "f612316b",
   "metadata": {
    "scrolled": false
   },
   "outputs": [
    {
     "name": "stderr",
     "output_type": "stream",
     "text": [
      "  7%|█████▌                                                                             | 1/15 [00:22<05:10, 22.15s/it]"
     ]
    },
    {
     "name": "stdout",
     "output_type": "stream",
     "text": [
      "Epoch: 1 | train_loss: 4.5529 | train_acc: 0.0542 | valid_loss: 4.1525 | valid_acc: 0.1598\n"
     ]
    },
    {
     "name": "stderr",
     "output_type": "stream",
     "text": [
      "\r",
      " 13%|███████████                                                                        | 2/15 [00:45<04:59, 23.02s/it]"
     ]
    },
    {
     "name": "stdout",
     "output_type": "stream",
     "text": [
      "Epoch: 2 | train_loss: 3.7774 | train_acc: 0.3986 | valid_loss: 3.5216 | valid_acc: 0.4728\n"
     ]
    },
    {
     "name": "stderr",
     "output_type": "stream",
     "text": [
      "\r",
      " 20%|████████████████▌                                                                  | 3/15 [01:10<04:42, 23.58s/it]"
     ]
    },
    {
     "name": "stdout",
     "output_type": "stream",
     "text": [
      "Epoch: 3 | train_loss: 3.0513 | train_acc: 0.6874 | valid_loss: 2.9837 | valid_acc: 0.6316\n"
     ]
    },
    {
     "name": "stderr",
     "output_type": "stream",
     "text": [
      "\r",
      " 27%|██████████████████████▏                                                            | 4/15 [01:36<04:32, 24.81s/it]"
     ]
    },
    {
     "name": "stdout",
     "output_type": "stream",
     "text": [
      "Epoch: 4 | train_loss: 2.4376 | train_acc: 0.8529 | valid_loss: 2.5756 | valid_acc: 0.7169\n"
     ]
    },
    {
     "name": "stderr",
     "output_type": "stream",
     "text": [
      "\r",
      " 33%|███████████████████████████▋                                                       | 5/15 [02:03<04:14, 25.44s/it]"
     ]
    },
    {
     "name": "stdout",
     "output_type": "stream",
     "text": [
      "Epoch: 5 | train_loss: 1.9792 | train_acc: 0.9343 | valid_loss: 2.2820 | valid_acc: 0.7648\n"
     ]
    },
    {
     "name": "stderr",
     "output_type": "stream",
     "text": [
      "\r",
      " 40%|█████████████████████████████████▏                                                 | 6/15 [02:29<03:51, 25.70s/it]"
     ]
    },
    {
     "name": "stdout",
     "output_type": "stream",
     "text": [
      "Epoch: 6 | train_loss: 1.6590 | train_acc: 0.9745 | valid_loss: 2.0752 | valid_acc: 0.7933\n"
     ]
    },
    {
     "name": "stderr",
     "output_type": "stream",
     "text": [
      "\r",
      " 47%|██████████████████████████████████████▋                                            | 7/15 [02:56<03:27, 26.00s/it]"
     ]
    },
    {
     "name": "stdout",
     "output_type": "stream",
     "text": [
      "Epoch: 7 | train_loss: 1.4412 | train_acc: 0.9863 | valid_loss: 1.9304 | valid_acc: 0.8178\n"
     ]
    },
    {
     "name": "stderr",
     "output_type": "stream",
     "text": [
      "\r",
      " 53%|████████████████████████████████████████████▎                                      | 8/15 [03:22<03:02, 26.13s/it]"
     ]
    },
    {
     "name": "stdout",
     "output_type": "stream",
     "text": [
      "Epoch: 8 | train_loss: 1.2931 | train_acc: 0.9902 | valid_loss: 1.8279 | valid_acc: 0.8285\n"
     ]
    },
    {
     "name": "stderr",
     "output_type": "stream",
     "text": [
      "\r",
      " 60%|█████████████████████████████████████████████████▊                                 | 9/15 [03:49<02:37, 26.26s/it]"
     ]
    },
    {
     "name": "stdout",
     "output_type": "stream",
     "text": [
      "Epoch: 9 | train_loss: 1.1913 | train_acc: 0.9931 | valid_loss: 1.7542 | valid_acc: 0.8421\n"
     ]
    },
    {
     "name": "stderr",
     "output_type": "stream",
     "text": [
      "\r",
      " 67%|██████████████████████████████████████████████████████▋                           | 10/15 [04:22<02:21, 28.37s/it]"
     ]
    },
    {
     "name": "stdout",
     "output_type": "stream",
     "text": [
      "Epoch: 10 | train_loss: 1.1198 | train_acc: 0.9951 | valid_loss: 1.7000 | valid_acc: 0.8510\n"
     ]
    },
    {
     "name": "stderr",
     "output_type": "stream",
     "text": [
      "\r",
      " 73%|████████████████████████████████████████████████████████████▏                     | 11/15 [04:52<01:55, 28.83s/it]"
     ]
    },
    {
     "name": "stdout",
     "output_type": "stream",
     "text": [
      "Epoch: 11 | train_loss: 1.0683 | train_acc: 0.9970 | valid_loss: 1.6594 | valid_acc: 0.8588\n"
     ]
    },
    {
     "name": "stderr",
     "output_type": "stream",
     "text": [
      "\r",
      " 80%|█████████████████████████████████████████████████████████████████▌                | 12/15 [05:21<01:26, 28.95s/it]"
     ]
    },
    {
     "name": "stdout",
     "output_type": "stream",
     "text": [
      "Epoch: 12 | train_loss: 1.0304 | train_acc: 0.9970 | valid_loss: 1.6285 | valid_acc: 0.8569\n"
     ]
    },
    {
     "name": "stderr",
     "output_type": "stream",
     "text": [
      "\r",
      " 87%|███████████████████████████████████████████████████████████████████████           | 13/15 [05:49<00:57, 28.66s/it]"
     ]
    },
    {
     "name": "stdout",
     "output_type": "stream",
     "text": [
      "Epoch: 13 | train_loss: 1.0017 | train_acc: 0.9990 | valid_loss: 1.6045 | valid_acc: 0.8569\n"
     ]
    },
    {
     "name": "stderr",
     "output_type": "stream",
     "text": [
      "\r",
      " 93%|████████████████████████████████████████████████████████████████████████████▌     | 14/15 [06:15<00:27, 27.95s/it]"
     ]
    },
    {
     "name": "stdout",
     "output_type": "stream",
     "text": [
      "Epoch: 14 | train_loss: 0.9795 | train_acc: 1.0000 | valid_loss: 1.5857 | valid_acc: 0.8578\n"
     ]
    },
    {
     "name": "stderr",
     "output_type": "stream",
     "text": [
      "100%|██████████████████████████████████████████████████████████████████████████████████| 15/15 [06:42<00:00, 26.86s/it]"
     ]
    },
    {
     "name": "stdout",
     "output_type": "stream",
     "text": [
      "Epoch: 15 | train_loss: 0.9621 | train_acc: 1.0000 | valid_loss: 1.5709 | valid_acc: 0.8578\n",
      "Training time for resnet is 402.96060730004683\n"
     ]
    },
    {
     "name": "stderr",
     "output_type": "stream",
     "text": [
      "\n"
     ]
    }
   ],
   "source": [
    "torch.manual_seed(42)\n",
    "torch.cuda.manual_seed(42)\n",
    "\n",
    "start_time = timer()\n",
    "\n",
    "result = train(model=model,\n",
    "         train_dataloader= train_dataloader,\n",
    "         val_dataloader= val_dataloader,\n",
    "         optimizer=optimizer,\n",
    "         loss_fn=loss_fn,\n",
    "         epochs=15,\n",
    "         device=device)\n",
    "\n",
    "end_time = timer()\n",
    "\n",
    "train_time = end_time - start_time\n",
    "print(f\"Training time for {model_name} is {train_time}\")"
   ]
  },
  {
   "cell_type": "markdown",
   "id": "26912e27",
   "metadata": {},
   "source": [
    "Save the models"
   ]
  },
  {
   "cell_type": "code",
   "execution_count": 22,
   "id": "a0db3ca0",
   "metadata": {},
   "outputs": [],
   "source": [
    "MODEL_PATH = Path(\"./\")\n",
    "MODEL_PATH.mkdir(parents=True, exist_ok=True)\n",
    "\n",
    "MODEL_NAME = f\"flower_classification_{model_name}.pth\"\n",
    "MODEL_SAVE_PATH = MODEL_PATH / MODEL_NAME\n",
    "\n",
    "torch.save(obj=model.state_dict(), f=MODEL_SAVE_PATH)"
   ]
  },
  {
   "cell_type": "markdown",
   "id": "c419a9e3",
   "metadata": {},
   "source": [
    "Analysis"
   ]
  },
  {
   "cell_type": "code",
   "execution_count": 23,
   "id": "1bb4597f",
   "metadata": {},
   "outputs": [
    {
     "data": {
      "text/html": [
       "<div>\n",
       "<style scoped>\n",
       "    .dataframe tbody tr th:only-of-type {\n",
       "        vertical-align: middle;\n",
       "    }\n",
       "\n",
       "    .dataframe tbody tr th {\n",
       "        vertical-align: top;\n",
       "    }\n",
       "\n",
       "    .dataframe thead th {\n",
       "        text-align: right;\n",
       "    }\n",
       "</style>\n",
       "<table border=\"1\" class=\"dataframe\">\n",
       "  <thead>\n",
       "    <tr style=\"text-align: right;\">\n",
       "      <th></th>\n",
       "      <th>train_loss</th>\n",
       "      <th>train_acc</th>\n",
       "      <th>valid_loss</th>\n",
       "      <th>valid_acc</th>\n",
       "    </tr>\n",
       "  </thead>\n",
       "  <tbody>\n",
       "    <tr>\n",
       "      <th>0</th>\n",
       "      <td>4.552925</td>\n",
       "      <td>0.054152</td>\n",
       "      <td>4.152544</td>\n",
       "      <td>0.159810</td>\n",
       "    </tr>\n",
       "    <tr>\n",
       "      <th>1</th>\n",
       "      <td>3.777423</td>\n",
       "      <td>0.398595</td>\n",
       "      <td>3.521617</td>\n",
       "      <td>0.472782</td>\n",
       "    </tr>\n",
       "    <tr>\n",
       "      <th>2</th>\n",
       "      <td>3.051254</td>\n",
       "      <td>0.687374</td>\n",
       "      <td>2.983726</td>\n",
       "      <td>0.631552</td>\n",
       "    </tr>\n",
       "    <tr>\n",
       "      <th>3</th>\n",
       "      <td>2.437556</td>\n",
       "      <td>0.852854</td>\n",
       "      <td>2.575597</td>\n",
       "      <td>0.716860</td>\n",
       "    </tr>\n",
       "    <tr>\n",
       "      <th>4</th>\n",
       "      <td>1.979163</td>\n",
       "      <td>0.934255</td>\n",
       "      <td>2.281954</td>\n",
       "      <td>0.764837</td>\n",
       "    </tr>\n",
       "    <tr>\n",
       "      <th>5</th>\n",
       "      <td>1.659020</td>\n",
       "      <td>0.974452</td>\n",
       "      <td>2.075240</td>\n",
       "      <td>0.793284</td>\n",
       "    </tr>\n",
       "    <tr>\n",
       "      <th>6</th>\n",
       "      <td>1.441157</td>\n",
       "      <td>0.986265</td>\n",
       "      <td>1.930372</td>\n",
       "      <td>0.817761</td>\n",
       "    </tr>\n",
       "    <tr>\n",
       "      <th>7</th>\n",
       "      <td>1.293149</td>\n",
       "      <td>0.990171</td>\n",
       "      <td>1.827935</td>\n",
       "      <td>0.828503</td>\n",
       "    </tr>\n",
       "    <tr>\n",
       "      <th>8</th>\n",
       "      <td>1.191316</td>\n",
       "      <td>0.993133</td>\n",
       "      <td>1.754207</td>\n",
       "      <td>0.842143</td>\n",
       "    </tr>\n",
       "    <tr>\n",
       "      <th>9</th>\n",
       "      <td>1.119795</td>\n",
       "      <td>0.995086</td>\n",
       "      <td>1.700037</td>\n",
       "      <td>0.850995</td>\n",
       "    </tr>\n",
       "    <tr>\n",
       "      <th>10</th>\n",
       "      <td>1.068333</td>\n",
       "      <td>0.997039</td>\n",
       "      <td>1.659437</td>\n",
       "      <td>0.858808</td>\n",
       "    </tr>\n",
       "    <tr>\n",
       "      <th>11</th>\n",
       "      <td>1.030373</td>\n",
       "      <td>0.997039</td>\n",
       "      <td>1.628468</td>\n",
       "      <td>0.856855</td>\n",
       "    </tr>\n",
       "    <tr>\n",
       "      <th>12</th>\n",
       "      <td>1.001698</td>\n",
       "      <td>0.999023</td>\n",
       "      <td>1.604492</td>\n",
       "      <td>0.856855</td>\n",
       "    </tr>\n",
       "    <tr>\n",
       "      <th>13</th>\n",
       "      <td>0.979545</td>\n",
       "      <td>1.000000</td>\n",
       "      <td>1.585706</td>\n",
       "      <td>0.857831</td>\n",
       "    </tr>\n",
       "    <tr>\n",
       "      <th>14</th>\n",
       "      <td>0.962071</td>\n",
       "      <td>1.000000</td>\n",
       "      <td>1.570854</td>\n",
       "      <td>0.857831</td>\n",
       "    </tr>\n",
       "  </tbody>\n",
       "</table>\n",
       "</div>"
      ],
      "text/plain": [
       "    train_loss  train_acc  valid_loss  valid_acc\n",
       "0     4.552925   0.054152    4.152544   0.159810\n",
       "1     3.777423   0.398595    3.521617   0.472782\n",
       "2     3.051254   0.687374    2.983726   0.631552\n",
       "3     2.437556   0.852854    2.575597   0.716860\n",
       "4     1.979163   0.934255    2.281954   0.764837\n",
       "5     1.659020   0.974452    2.075240   0.793284\n",
       "6     1.441157   0.986265    1.930372   0.817761\n",
       "7     1.293149   0.990171    1.827935   0.828503\n",
       "8     1.191316   0.993133    1.754207   0.842143\n",
       "9     1.119795   0.995086    1.700037   0.850995\n",
       "10    1.068333   0.997039    1.659437   0.858808\n",
       "11    1.030373   0.997039    1.628468   0.856855\n",
       "12    1.001698   0.999023    1.604492   0.856855\n",
       "13    0.979545   1.000000    1.585706   0.857831\n",
       "14    0.962071   1.000000    1.570854   0.857831"
      ]
     },
     "execution_count": 23,
     "metadata": {},
     "output_type": "execute_result"
    }
   ],
   "source": [
    "result_df = pd.DataFrame(result)\n",
    "result_df"
   ]
  },
  {
   "cell_type": "code",
   "execution_count": 24,
   "id": "6f7f3a71",
   "metadata": {},
   "outputs": [
    {
     "data": {
      "image/png": "[encoded data removed]",
      "text/plain": [
       "<Figure size 1500x1000 with 2 Axes>"
      ]
     },
     "metadata": {},
     "output_type": "display_data"
    }
   ],
   "source": [
    "plt.figure(figsize=(15, 10))\n",
    "\n",
    "epochs = 15\n",
    "\n",
    "plt.subplot(2, 2, 1)\n",
    "plt.plot(range(epochs), result_df[\"train_loss\"], label=\"train_loss\")\n",
    "plt.plot(range(epochs), result_df[\"valid_loss\"], label=\"valid_loss\")\n",
    "plt.title(\"Loss\")\n",
    "plt.xlabel(\"Epochs\")\n",
    "plt.legend()\n",
    "\n",
    "plt.subplot(2, 2, 2)\n",
    "plt.plot(range(epochs), result_df[\"train_acc\"], label=\"train_acc\")\n",
    "plt.plot(range(epochs), result_df[\"valid_acc\"], label=\"valid_acc\")\n",
    "plt.title(\"Accuracy\")\n",
    "plt.xlabel(\"Epochs\")\n",
    "plt.legend();"
   ]
  },
  {
   "cell_type": "markdown",
   "id": "5c648784",
   "metadata": {},
   "source": [
    "Performance on the test set"
   ]
  },
  {
   "cell_type": "code",
   "execution_count": 25,
   "id": "42775e70",
   "metadata": {},
   "outputs": [],
   "source": [
    "def test(model: torch.nn.Module, test_dataloader: torch.utils.data.DataLoader, loss_fn: torch.nn.Module, device: torch.device):\n",
    "    \n",
    "    model.eval()\n",
    "    test_loss, test_acc = 0, 0\n",
    "    \n",
    "    with torch.inference_mode():\n",
    "        for i, batch in enumerate(test_dataloader):\n",
    "            X = batch['image']\n",
    "            y = batch['label']\n",
    "\n",
    "            X, y = X.to(device), y.to(device)\n",
    "\n",
    "            y_pred = model(X)\n",
    "\n",
    "            loss = loss_fn(y_pred,y)\n",
    "            test_loss += loss.item()\n",
    "\n",
    "            y_pred_label = y_pred.argmax(dim=1)\n",
    "            test_acc += (y_pred_label==y).sum().item()/len(y_pred_label)\n",
    "        \n",
    "    test_loss = test_loss/len(test_dataloader)\n",
    "    test_acc = test_acc/len(test_dataloader)\n",
    "    return test_loss, test_acc"
   ]
  },
  {
   "cell_type": "code",
   "execution_count": 26,
   "id": "c0f58b24",
   "metadata": {},
   "outputs": [
    {
     "name": "stdout",
     "output_type": "stream",
     "text": [
      "Test Loss: 1.6130161528684654 | Test Accuracy: 0.8498724489795918\n"
     ]
    }
   ],
   "source": [
    "test_loss, test_acc = test(model=model,\n",
    "         test_dataloader= test_dataloader,\n",
    "         loss_fn=loss_fn,\n",
    "         device=device)\n",
    "\n",
    "print(f\"Test Loss: {test_loss} | Test Accuracy: {test_acc}\")"
   ]
  },
  {
   "cell_type": "markdown",
   "id": "84aefa70",
   "metadata": {},
   "source": [
    "# Sample test"
   ]
  },
  {
   "cell_type": "code",
   "execution_count": 27,
   "id": "4217c98e",
   "metadata": {},
   "outputs": [],
   "source": [
    "custom_image_path = \"./dataset/flowers-102/jpg\\image_02253.jpg\""
   ]
  },
  {
   "cell_type": "code",
   "execution_count": 28,
   "id": "42b8bc43",
   "metadata": {},
   "outputs": [
    {
     "name": "stderr",
     "output_type": "stream",
     "text": [
      "C:\\Users\\guanq\\AppData\\Local\\anaconda3\\envs\\4042Assign2\\lib\\site-packages\\torchvision\\transforms\\functional.py:1603: UserWarning: The default value of the antialias parameter of all the resizing transforms (Resize(), RandomResizedCrop(), etc.) will change from None to True in v0.17, in order to be consistent across the PIL and Tensor backends. To suppress this warning, directly pass antialias=True (recommended, future default), antialias=None (current default, which means False for Tensors and True for PIL), or antialias=False (only works on Tensors - PIL will still use antialiasing). This also applies if you are using the inference transforms from the models weights: update the call to weights.transforms(antialias=True).\n",
      "  warnings.warn(\n"
     ]
    }
   ],
   "source": [
    "custom_image = torchvision.io.read_image(str(custom_image_path)).type(torch.float32)\n",
    "\n",
    "custom_image = custom_image / 255. \n",
    "\n",
    "custom_image_transform = transforms.Compose([\n",
    "    transforms.Resize((224, 224)),\n",
    "])\n",
    "custom_image_transformed = custom_image_transform(custom_image)"
   ]
  },
  {
   "cell_type": "code",
   "execution_count": 29,
   "id": "59cded8e",
   "metadata": {},
   "outputs": [],
   "source": [
    "model.eval()\n",
    "with torch.inference_mode():\n",
    "\n",
    "    custom_image_transformed_with_batch_size = custom_image_transformed.unsqueeze(dim=0)\n",
    "\n",
    "    custom_image_pred = model(custom_image_transformed.unsqueeze(dim=0).to(device))\n",
    "    \n",
    "custom_image_pred_probs = torch.softmax(custom_image_pred, dim=1)\n",
    "custom_image_pred_label = torch.argmax(custom_image_pred_probs, dim=1)"
   ]
  },
  {
   "cell_type": "code",
   "execution_count": 30,
   "id": "a5d55deb",
   "metadata": {},
   "outputs": [
    {
     "data": {
      "text/plain": [
       "40"
      ]
     },
     "execution_count": 30,
     "metadata": {},
     "output_type": "execute_result"
    }
   ],
   "source": [
    "custom_image_pred_label.item()"
   ]
  },
  {
   "cell_type": "code",
   "execution_count": null,
   "id": "5b8f2349",
   "metadata": {},
   "outputs": [],
   "source": []
  }
 ],
 "metadata": {
  "kernelspec": {
   "display_name": "4042Assign2",
   "language": "python",
   "name": "4042assign2"
  },
  "language_info": {
   "codemirror_mode": {
    "name": "ipython",
    "version": 3
   },
   "file_extension": ".py",
   "mimetype": "text/x-python",
   "name": "python",
   "nbconvert_exporter": "python",
   "pygments_lexer": "ipython3",
   "version": "3.10.0"
  }
 },
 "nbformat": 4,
 "nbformat_minor": 5
}
